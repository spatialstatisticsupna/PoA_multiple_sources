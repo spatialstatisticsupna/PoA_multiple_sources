{
 "cells": [
  {
   "cell_type": "code",
   "execution_count": null,
   "id": "4d2d49fc",
   "metadata": {},
   "outputs": [],
   "source": [
    "import numpy as np\n",
    "import random as rd\n",
    "import matplotlib.pyplot as plt\n",
    "import time"
   ]
  },
  {
   "cell_type": "code",
   "execution_count": null,
   "id": "09a1109d",
   "metadata": {},
   "outputs": [],
   "source": [
    "def substract(list1,list2):\n",
    "    return [x-y for (x,y) in zip(list1,list2)]"
   ]
  },
  {
   "cell_type": "markdown",
   "id": "fc81492e",
   "metadata": {},
   "source": [
    "### Optimization Problem with linear cost - Non-cooperative and asymmetric scenario\n",
    "\n",
    "$$ \\min_{\\lambda_n}\\frac{1}{\\mu_n}\\left(\\frac{\\mu_n+\\lambda}{\\lambda_n}+c\\lambda_n\\right),\\qquad n=1,2,\\ldots,K\\qquad\\lambda=\\lambda_1+\\cdots+\\lambda_K$$\n",
    "\n",
    "#### First order conditions\n",
    "\n",
    "$$c\\lambda_n^2+\\lambda_n-(\\mu_n+\\lambda)=0,\\qquad n=1,2,\\ldots,K$$"
   ]
  },
  {
   "cell_type": "markdown",
   "id": "10ca2f1d",
   "metadata": {},
   "source": [
    "##### Fixed -Point Algorithm\n",
    "\n",
    "Set $\\lambda_n^0$ and compute iteratively\n",
    "\n",
    "$$\\lambda_n^r=\\sqrt{\\dfrac{\\mu_n+\\lambda_{-n}^{r-1}}{c}},\\qquad n=1,2,\\cdots,K$$\n",
    "until some kind of convergence."
   ]
  },
  {
   "cell_type": "code",
   "execution_count": null,
   "id": "a7516e8b",
   "metadata": {},
   "outputs": [],
   "source": [
    "def AlgApproxNE(c,serv,itermax=1000):\n",
    "    ''' Numeric computation of the optimal generation rates in \n",
    "        decentralized scenario\n",
    "        \n",
    "        INPUT\n",
    "        c      : cost for server usage\n",
    "        serv   : service rates\n",
    "        itermax: maximum number of iterations\n",
    "        \n",
    "        OUTPUT\n",
    "        Lambdas: optimal generation rates at the Nash Equilibrium\n",
    "    '''\n",
    "    \n",
    "    K = len(serv)\n",
    "    Lambdas = dict()\n",
    "    Lambdas[0] = [0]*K\n",
    "    for n in range(K):\n",
    "        Lambdas[0][n] = rd.randint(1,round(serv[n]+1)*15)/10\n",
    "    delta_min = 10**(-23)\n",
    "    delta = 1; r = 0\n",
    "    while r<=itermax and delta>delta_min:\n",
    "        r += 1\n",
    "        lamb = sum(Lambdas[r-1][:K])\n",
    "        Lambdas[r] = [0]*(K+1)\n",
    "        for n in range(K):\n",
    "            Lambdas[r][n] = np.sqrt((serv[n]+lamb-Lambdas[r-1][n])/c)\n",
    "        diff  = substract(Lambdas[r][:K],Lambdas[r-1][:K])\n",
    "        delta = np.linalg.norm(diff,2)\n",
    "        Lambdas[r][K] = delta\n",
    "    return Lambdas"
   ]
  },
  {
   "cell_type": "markdown",
   "id": "65dae36e",
   "metadata": {},
   "source": [
    "### Optimization Problem with linear cost - Cooperative and asymmetric scenario\n",
    "\n",
    "$$ \\min_{\\lambda_n}\\sum\\limits_{n=1}^{K}\\frac{1}{\\mu_n}\\left(\\frac{\\mu_n+\\lambda}{\\lambda_n}+c\\lambda_n\\right)\\qquad\\lambda=\\lambda_1+\\cdots+\\lambda_K$$\n",
    "\n",
    "#### First order conditions\n",
    "\n",
    "$$c\\lambda_n^2+\\sum\\limits_{m=1}^K\\dfrac{\\mu_n\\lambda_n^2}{\\mu_m\\lambda_m}-(\\mu_n+\\lambda)=0,\\qquad n=1,2,\\ldots,K$$"
   ]
  },
  {
   "cell_type": "markdown",
   "id": "cfa4306d",
   "metadata": {},
   "source": [
    "##### Fixed -Point Algorithm\n",
    "\n",
    "Set $\\lambda_n^0$ and compute iteratively\n",
    "\n",
    "$$\\lambda_n^r=\\sqrt{\\dfrac{\\mu_n+\\lambda_{-n}^{r-1}}{c+\\mu_n\\sum\\limits_{m\\ne n}\\dfrac{1}{\\mu_m\\lambda_m^{r-1}}}},\\qquad n=1,2,\\cdots,K$$\n",
    "until some kind of convergence."
   ]
  },
  {
   "cell_type": "code",
   "execution_count": null,
   "id": "c231d0b0",
   "metadata": {},
   "outputs": [],
   "source": [
    "def AlgApproxG(c,serv,itermax=1000):\n",
    "    ''' Numeric computation of the optimal generation rates in \n",
    "        centralized scenario\n",
    "        \n",
    "        INPUT\n",
    "        c      : cost for server usage\n",
    "        serv   : service rates\n",
    "        itermax: maximum number of iterations\n",
    "        \n",
    "        OUTPUT\n",
    "        Lambdas: optimal generation rates at the global optimum\n",
    "    '''\n",
    "    \n",
    "    K = len(serv)\n",
    "    Lambdas = dict()\n",
    "    Lambdas[0] = [0]*K\n",
    "    for n in range(K):\n",
    "        Lambdas[0][n] = rd.randint(1,round(serv[n]+1)*15)/10\n",
    "    delta_min = 10**(-18)\n",
    "    delta = 1; r = 0\n",
    "    while r<=itermax and delta>delta_min:\n",
    "        r += 1\n",
    "        lamb = sum(Lambdas[r-1][:K])\n",
    "        lamb_1 = sum(\n",
    "            [1/(serv[m]*Lambdas[r-1][m]) for m in range(K)])\n",
    "        Lambdas[r] = [0]*(K+1)\n",
    "        for n in range(K):\n",
    "            num = serv[n] + lamb - Lambdas[r-1][n]\n",
    "            den = c + serv[n]*(lamb_1 - (1/serv[n]/Lambdas[r-1][n]))\n",
    "            Lambdas[r][n] = np.sqrt(num/den)\n",
    "        diff = substract(Lambdas[r][:K],Lambdas[r-1][:K])\n",
    "        delta = np.linalg.norm(diff,2)\n",
    "        Lambdas[r][K] = delta\n",
    "    return Lambdas"
   ]
  },
  {
   "cell_type": "code",
   "execution_count": null,
   "id": "0999691e",
   "metadata": {},
   "outputs": [],
   "source": [
    "def ObjFunct(n,arriv,serv,c):\n",
    "    ''' Assess the value of cost function for source n \n",
    "    \n",
    "        INPUT\n",
    "        n    : source index\n",
    "        arriv: generation rates\n",
    "        serv : service rates\n",
    "        c    : trasnmission cost\n",
    "        \n",
    "        OUTPUT\n",
    "        Cost function of source n\n",
    "    '''\n",
    "    \n",
    "    mu_n   = serv[n]\n",
    "    lamb_n = arriv[n]\n",
    "    lamb   = sum(arriv)\n",
    "    s1 = (mu_n + lamb)/mu_n/lamb_n\n",
    "    s2 = c*lamb_n/mu_n\n",
    "    return s1+s2"
   ]
  },
  {
   "cell_type": "code",
   "execution_count": null,
   "id": "af4fc035",
   "metadata": {},
   "outputs": [],
   "source": [
    "def ObjFunctGen(arriv,serv,c):\n",
    "    ''' Assess the value of the aggregate cost function \n",
    "    \n",
    "        INPUT\n",
    "        arriv: generation rates\n",
    "        serv : service rates\n",
    "        c    : trasnmission cost\n",
    "        \n",
    "        OUTPUT\n",
    "        Global cost\n",
    "    '''\n",
    "    \n",
    "    K = len(serv)\n",
    "    OF = 0\n",
    "    for n in range(K):\n",
    "        OF += ObjFunct(n,arriv,serv,c)\n",
    "    return OF"
   ]
  },
  {
   "cell_type": "code",
   "execution_count": null,
   "id": "9a1da74f",
   "metadata": {},
   "outputs": [],
   "source": [
    "def PriceofAnarchy(lamb_ne,lamb_g,serv,c):\n",
    "    ''' INPUT\n",
    "        lamb_ne: optimal arrival rates for Nash Equilibrium\n",
    "        lamb_g : optimal arrival rates for Global Equilibrium\n",
    "        serv   : service rates\n",
    "        c      : transmission cost\n",
    "     \n",
    "        OUTPUT\n",
    "        Ratio between the total cost at Nash equilibrium and total cost at the global optimum.\n",
    "    '''\n",
    "    \n",
    "    OF_ne = ObjFunctGen(lamb_ne,serv,c)\n",
    "    OF_g  = ObjFunctGen(lamb_g,serv,c)\n",
    "    return OF_ne/OF_g"
   ]
  },
  {
   "cell_type": "code",
   "execution_count": null,
   "id": "03024350",
   "metadata": {},
   "outputs": [],
   "source": [
    "def config1(M,K):\n",
    "    ''' INPUT\n",
    "        M : range of service rates\n",
    "        K : number of sources\n",
    "    \n",
    "        OUTPUT\n",
    "        Service rates of CF1 in Section 3.5 and transmission cost c_sym\n",
    "    '''\n",
    "    \n",
    "    serv = [0]*K\n",
    "    for n in range(K-1):\n",
    "        serv[n] = M-n\n",
    "    serv[K-1] = 1\n",
    "    \n",
    "    cost   = K*sum([1/serv[n] for n in range(K)])\n",
    "    return serv,cost"
   ]
  },
  {
   "cell_type": "code",
   "execution_count": null,
   "id": "55065df3",
   "metadata": {},
   "outputs": [],
   "source": [
    "def config2(M,K):\n",
    "    ''' INPUT\n",
    "        M : range of service rates\n",
    "        K : number of sources\n",
    "    \n",
    "        OUTPUT\n",
    "        Service rates of CF2 in Section 3.5 and transmission cost c_sym\n",
    "    '''\n",
    "    \n",
    "    serv = [0]*K\n",
    "    for n in range(K):\n",
    "        serv[n] = M - (M-1)*n/(K-1)\n",
    "    serv[K-1] = 1\n",
    "    \n",
    "    cost   = K*sum([1/serv[n] for n in range(K)])\n",
    "    return serv,cost"
   ]
  },
  {
   "cell_type": "code",
   "execution_count": null,
   "id": "bed6f33c",
   "metadata": {},
   "outputs": [],
   "source": [
    "def PoA_Evolution(Mmax,K,cf=1):\n",
    "    ''' INPUT\n",
    "        Mmax: positive real number\n",
    "        K   : vector of number of sources\n",
    "        cf  : service rate configuration (1 or 2)\n",
    "    \n",
    "        OUTPUT\n",
    "        Dictionary with PoA evolution across 100<=M<=Mmax for each k<=K \n",
    "    '''\n",
    "    \n",
    "    if cf==1:\n",
    "        serv_funct = config1\n",
    "    if cf==2:\n",
    "        serv_funct = config2\n",
    "    PoA = dict() \n",
    "    for k in K:\n",
    "        rangeM = np.linspace(100,Mmax,100)\n",
    "        PoA[k] = np.empty_like(rangeM)\n",
    "\n",
    "        for n in range(len(rangeM)):\n",
    "            M = rangeM[n]\n",
    "            serv,csym  = serv_funct(M,k)\n",
    "            Lambdas_ne = AlgApproxNE(csym,serv)\n",
    "            lamb_ne    = Lambdas_ne[len(Lambdas_ne)-1][:-1]\n",
    "            Lambdas_g  = AlgApproxG(csym,serv)\n",
    "            lamb_g     = Lambdas_g[len(Lambdas_g)-1][:-1]\n",
    "            PoA[k][n]  = PriceofAnarchy(lamb_ne,lamb_g,serv,csym)\n",
    "    return PoA"
   ]
  },
  {
   "cell_type": "code",
   "execution_count": null,
   "id": "e027d320",
   "metadata": {},
   "outputs": [],
   "source": [
    "K = [2,6,10]; Mmax = 1000**2\n",
    "PoA1 = PoA_Evolution(Mmax,K)\n",
    "PoA2 = PoA_Evolution(Mmax,K,cf=2)"
   ]
  },
  {
   "cell_type": "code",
   "execution_count": null,
   "id": "f783567d",
   "metadata": {},
   "outputs": [],
   "source": [
    "rangeM = np.linspace(100,Mmax,100)\n",
    "colors = ['red','green','blue']\n",
    "styles = ['-','--',':']\n",
    "K      = list(PoA1.keys())"
   ]
  },
  {
   "cell_type": "code",
   "execution_count": null,
   "id": "75387085",
   "metadata": {},
   "outputs": [],
   "source": [
    "#\n",
    "#     Figure 2, Section 5 \"Numerical Experiments\" in \n",
    "#     \"Price of Anarchy with Multiple Information Sources under Competition\" (Miguelez et al., 2023)\n",
    "#\n",
    "\n",
    "fig, (ax1,ax2) = plt.subplots(1, 2, figsize=(16,8), sharex=True, sharey=True)\n",
    "for k in range(len(K)):\n",
    "    ax1.plot(np.log10(rangeM), PoA1[K[k]], \n",
    "            color=colors[k], ls=styles[k], \n",
    "            label='K=%i'%(K[k]))\n",
    "    ax2.plot(np.log10(rangeM), PoA2[K[k]], \n",
    "            color=colors[k], ls=styles[k], \n",
    "            label='K=%i'%(K[k]))\n",
    "ax1.set_xlabel(r'$\\log_{10}(M)$', fontsize=16)\n",
    "ax1.set_ylabel(r'$PoA\\ ratio$', fontsize=16)\n",
    "ax1.set_xticks(np.arange(2,7))\n",
    "ax1.tick_params(labelsize=12)\n",
    "ax1.grid(color='lightgray',ls = '-.',lw = 0.25)\n",
    "ax1.legend(loc='lower right',fontsize=16)\n",
    "ax2.set_xlabel(r'$\\log_{10}(M)$', fontsize=16)\n",
    "ax2.set_ylabel(r'$PoA\\ ratio$', fontsize=16)\n",
    "ax2.set_xticks(np.arange(2,7))\n",
    "ax2.tick_params(labelsize=12)\n",
    "ax2.grid(color='lightgray',ls = '-.',lw = 0.25)\n",
    "ax2.legend(loc='lower right',fontsize=16)\n",
    "plt.show()"
   ]
  }
 ],
 "metadata": {
  "kernelspec": {
   "display_name": "Python 3",
   "language": "python",
   "name": "python3"
  },
  "language_info": {
   "codemirror_mode": {
    "name": "ipython",
    "version": 3
   },
   "file_extension": ".py",
   "mimetype": "text/x-python",
   "name": "python",
   "nbconvert_exporter": "python",
   "pygments_lexer": "ipython3",
   "version": "3.8.8"
  }
 },
 "nbformat": 4,
 "nbformat_minor": 5
}
